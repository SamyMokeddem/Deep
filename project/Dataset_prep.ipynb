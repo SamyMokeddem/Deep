{
 "cells": [
  {
   "cell_type": "code",
   "execution_count": 4,
   "metadata": {},
   "outputs": [
    {
     "name": "stdout",
     "output_type": "stream",
     "text": [
      "<class 'netCDF4._netCDF4.Dataset'>\n",
      "root group (NETCDF3_64BIT_OFFSET data model, file format NETCDF3):\n",
      "    Conventions: CF-1.6\n",
      "    history: 2024-04-11 13:12:37 GMT by grib_to_netcdf-2.25.1: /opt/ecmwf/mars-client/bin/grib_to_netcdf.bin -S param -o /cache/data9/adaptor.mars.internal-1712840648.4166346-6564-1-016c12f7-8942-4793-8421-d251d5b069ea.nc /cache/tmp/016c12f7-8942-4793-8421-d251d5b069ea-adaptor.mars.internal-1712838583.1415808-6564-1-tmp.grib\n",
      "    dimensions(sizes): longitude(21), latitude(13), time(32144)\n",
      "    variables(dimensions): float32 longitude(longitude), float32 latitude(latitude), int32 time(time), int16 u10(time, latitude, longitude)\n",
      "    groups: \n"
     ]
    }
   ],
   "source": [
    "import netCDF4 as nc\n",
    "import numpy as np\n",
    "from datetime import datetime\n",
    "import os\n",
    "in_var = 'u10'\n",
    "fn = 'download/era5/'+in_var+'-2010_2020.nc'\n",
    "dl = nc.Dataset(fn)\n",
    "print(dl)"
   ]
  },
  {
   "cell_type": "code",
   "execution_count": 5,
   "metadata": {},
   "outputs": [
    {
     "name": "stdout",
     "output_type": "stream",
     "text": [
      "(10, 100, 100, 2)\n"
     ]
    }
   ],
   "source": [
    "# Create some sample arrays for demonstration\n",
    "arr1 = np.random.rand(10, 100, 100)  # Example array 1\n",
    "arr2 = np.random.rand(10, 100, 100)  # Example array 2\n",
    "\n",
    "# Concatenate along a new dimension (var)\n",
    "# Create a new axis for each array to represent the var dimension\n",
    "arr1_with_var = np.expand_dims(arr1, axis=3)  # Shape: (10, 100, 100, 1)\n",
    "arr2_with_var = np.expand_dims(arr2, axis=3)  # Shape: (10, 100, 100, 1)\n",
    "\n",
    "# Concatenate along the var dimension (axis=3)\n",
    "concatenated_array = np.concatenate((arr1_with_var, arr2_with_var), axis=3)\n",
    "\n",
    "# Resulting shape will be (time, x, y, var)\n",
    "print(concatenated_array.shape)\n",
    "print(arr1_with_var[0, 0, 0, 0])"
   ]
  },
  {
   "cell_type": "code",
   "execution_count": 9,
   "metadata": {},
   "outputs": [
    {
     "data": {
      "text/plain": [
       "1060677"
      ]
     },
     "execution_count": 9,
     "metadata": {},
     "output_type": "execute_result"
    }
   ],
   "source": [
    "np.array(dl['time'][:])[-1]"
   ]
  },
  {
   "cell_type": "code",
   "execution_count": 10,
   "metadata": {},
   "outputs": [
    {
     "name": "stdout",
     "output_type": "stream",
     "text": [
      "96429\n",
      "96432\n"
     ]
    },
    {
     "data": {
      "text/plain": [
       "8.0"
      ]
     },
     "execution_count": 10,
     "metadata": {},
     "output_type": "execute_result"
    }
   ],
   "source": [
    "print(1060677 - 964248)\n",
    "print(32144*3)\n",
    "datetime(2010, 1, 2, 0).timestamp()/3600/3 - datetime(2010, 1, 1, 0).timestamp()/3600/3"
   ]
  },
  {
   "cell_type": "code",
   "execution_count": 11,
   "metadata": {},
   "outputs": [
    {
     "name": "stdout",
     "output_type": "stream",
     "text": [
      "<class 'netCDF4._netCDF4.Dimension'>: name = 'longitude', size = 21\n",
      "<class 'netCDF4._netCDF4.Dimension'>: name = 'latitude', size = 13\n",
      "<class 'netCDF4._netCDF4.Dimension'>: name = 'time', size = 32144\n"
     ]
    }
   ],
   "source": [
    "for dim in dl.dimensions.values():\n",
    "    print(dim)"
   ]
  },
  {
   "cell_type": "code",
   "execution_count": 12,
   "metadata": {},
   "outputs": [
    {
     "name": "stdout",
     "output_type": "stream",
     "text": [
      "1546297200.0 1577833140.0\n"
     ]
    }
   ],
   "source": [
    "from datetime import datetime\n",
    "\n",
    "datetime.fromtimestamp(float(dl[\"time\"][3]))\n",
    "start_year, end_year = 2019, 2019\n",
    "first_day = datetime(start_year, 1, 1, 0, 0)\n",
    "last_day = datetime(end_year, 12, 31, 23, 59)\n",
    "\n",
    "first_timestamp = datetime.timestamp(first_day)\n",
    "last_timestamp = datetime.timestamp(last_day)\n",
    "print(first_timestamp, last_timestamp)\n"
   ]
  },
  {
   "cell_type": "code",
   "execution_count": 13,
   "metadata": {
    "scrolled": true
   },
   "outputs": [
    {
     "ename": "IndexError",
     "evalue": "tp not found in /",
     "output_type": "error",
     "traceback": [
      "\u001b[0;31m---------------------------------------------------------------------------\u001b[0m",
      "\u001b[0;31mIndexError\u001b[0m                                Traceback (most recent call last)",
      "Cell \u001b[0;32mIn[13], line 4\u001b[0m\n\u001b[1;32m      2\u001b[0m \u001b[38;5;28;01mimport\u001b[39;00m \u001b[38;5;21;01mnumpy\u001b[39;00m \u001b[38;5;28;01mas\u001b[39;00m \u001b[38;5;21;01mnp\u001b[39;00m\n\u001b[1;32m      3\u001b[0m \u001b[38;5;66;03m# Find the minimum and maximum values in the dataset\u001b[39;00m\n\u001b[0;32m----> 4\u001b[0m min_val \u001b[38;5;241m=\u001b[39m np\u001b[38;5;241m.\u001b[39mmin(dl[\u001b[38;5;124m\"\u001b[39m\u001b[38;5;124mtp\u001b[39m\u001b[38;5;124m\"\u001b[39m])\n\u001b[1;32m      5\u001b[0m max_val \u001b[38;5;241m=\u001b[39m np\u001b[38;5;241m.\u001b[39mmax(dl[\u001b[38;5;124m\"\u001b[39m\u001b[38;5;124mtp\u001b[39m\u001b[38;5;124m\"\u001b[39m])\n\u001b[1;32m      7\u001b[0m \u001b[38;5;66;03m# Plot each random sample\u001b[39;00m\n",
      "File \u001b[0;32msrc/netCDF4/_netCDF4.pyx:2522\u001b[0m, in \u001b[0;36mnetCDF4._netCDF4.Dataset.__getitem__\u001b[0;34m()\u001b[0m\n",
      "\u001b[0;31mIndexError\u001b[0m: tp not found in /"
     ]
    }
   ],
   "source": [
    "import matplotlib.pyplot as plt\n",
    "import numpy as np\n",
    "# Find the minimum and maximum values in the dataset\n",
    "min_val = np.min(dl[\"tp\"])\n",
    "max_val = np.max(dl[\"tp\"])\n",
    "\n",
    "# Plot each random sample\n",
    "for i in range(10):\n",
    "    rand_num = np.random.randint(0, 8730)\n",
    "    plt.figure()\n",
    "    plt.imshow(dl[\"tp\"][rand_num])\n",
    "    \n",
    "    # Set the color scale limits based on the min and max values\n",
    "    plt.colorbar(ticks=np.linspace(min_val, max_val, num=20))\n",
    "    plt.clim(min_val, max_val)\n",
    "    \n",
    "    plt.show()"
   ]
  },
  {
   "cell_type": "code",
   "execution_count": null,
   "metadata": {},
   "outputs": [
    {
     "name": "stdout",
     "output_type": "stream",
     "text": [
      "<class 'netCDF4._netCDF4.Dataset'>\n",
      "root group (NETCDF4 data model, file format HDF5):\n",
      "    GRIB_edition: 2\n",
      "    GRIB_centre: eswi\n",
      "    GRIB_centreDescription: Norrkoping\n",
      "    GRIB_subCentre: 255\n",
      "    Conventions: CF-1.7\n",
      "    institution: Norrkoping\n",
      "    history: 2024-04-10T08:32 GRIB to CDM+CF via cfgrib-0.9.9.1/ecCodes-2.27.0 with {\"source\": \"/cache/tmp/1906ee89-b624-449f-a527-b0621c9bfb67-adaptor.mars.external-1712737774.8854349-29839-27-tmp.grib\", \"filter_by_keys\": {}, \"encode_cf\": [\"parameter\", \"time\", \"geography\", \"vertical\"]}\n",
      "    dimensions(sizes): time(2920), y(1069), x(1069)\n",
      "    variables(dimensions): int64 time(time), float64 step(), float64 surface(), float64 latitude(y, x), float64 longitude(y, x), float64 valid_time(time), float32 tp(time, y, x)\n",
      "    groups: \n"
     ]
    }
   ],
   "source": [
    "fn = 'cerra.nc'\n",
    "ds = nc.Dataset(fn)\n",
    "print(ds)"
   ]
  },
  {
   "cell_type": "code",
   "execution_count": null,
   "metadata": {},
   "outputs": [
    {
     "name": "stdout",
     "output_type": "stream",
     "text": [
      "<class 'netCDF4._netCDF4.Dimension'>: name = 'time', size = 2920\n",
      "<class 'netCDF4._netCDF4.Dimension'>: name = 'y', size = 1069\n",
      "<class 'netCDF4._netCDF4.Dimension'>: name = 'x', size = 1069\n"
     ]
    }
   ],
   "source": [
    "for dim in ds.dimensions.values():\n",
    "    print(dim)"
   ]
  },
  {
   "cell_type": "code",
   "execution_count": null,
   "metadata": {},
   "outputs": [
    {
     "name": "stdout",
     "output_type": "stream",
     "text": [
      "[[20.292281   20.30694167 20.3215796  ... 20.32157984 20.30694191\n",
      "  20.29228124]\n",
      " [20.33366508 20.34833914 20.36299043 ... 20.36299067 20.34833938\n",
      "  20.33366532]\n",
      " [20.37505942 20.38974688 20.40441156 ... 20.4044118  20.38974712\n",
      "  20.37505966]\n",
      " ...\n",
      " [63.70871082 63.74564392 63.78254191 ... 63.78254251 63.74564452\n",
      "  63.70871143]\n",
      " [63.73913522 63.7760965  63.8130227  ... 63.81302331 63.77609711\n",
      "  63.73913583]\n",
      " [63.76951353 63.80650299 63.8434574  ... 63.84345801 63.8065036\n",
      "  63.76951414]]\n"
     ]
    },
    {
     "data": {
      "text/plain": [
       "137562"
      ]
     },
     "execution_count": 8,
     "metadata": {},
     "output_type": "execute_result"
    }
   ],
   "source": [
    "lat = ds['latitude'][:]\n",
    "lat = np.array(lat)[:]\n",
    "print(lat)\n",
    "y_index = np.argwhere((lat>49) & (lat<52)).flatten()\n",
    "y_index.size"
   ]
  },
  {
   "cell_type": "code",
   "execution_count": null,
   "metadata": {
    "scrolled": true
   },
   "outputs": [
    {
     "name": "stdout",
     "output_type": "stream",
     "text": [
      "[[342.514057   342.55818325 342.60232794 ...  33.39767134  33.44181602\n",
      "   33.48594228]\n",
      " [342.49840486 342.54255389 342.58672138 ...  33.41327789  33.45744539\n",
      "   33.50159442]\n",
      " [342.48273423 342.52690606 342.57109638 ...  33.4289029   33.47309322\n",
      "   33.51726504]\n",
      " ...\n",
      " [302.06206865 302.13088553 302.19985614 ...  73.80014273  73.86911335\n",
      "   73.93793022]\n",
      " [301.97856972 302.04735663 302.1162975  ...  73.88370137  73.95264224\n",
      "   74.02142915]\n",
      " [301.89491724 301.96367379 302.03258451 ...  73.96741436  74.03632508\n",
      "   74.10508164]]\n"
     ]
    },
    {
     "data": {
      "text/plain": [
       "array([424, 425, 426, 427, 428, 429, 430, 431, 432, 433, 434, 435, 436,\n",
       "       437, 438, 439, 440, 441, 442, 443, 444, 445, 446, 447, 448, 449,\n",
       "       450, 451, 452, 453, 454, 455, 456, 457, 458, 459, 460, 461, 462,\n",
       "       463, 464, 465, 466, 467, 468, 469, 470, 471, 472, 473, 474, 475,\n",
       "       476, 477, 478, 479, 480, 481, 482, 483, 484, 485, 486, 487, 488,\n",
       "       489, 490, 491, 492, 493, 494, 495, 496, 497, 498, 499, 500, 501,\n",
       "       502, 503])"
      ]
     },
     "execution_count": 52,
     "metadata": {},
     "output_type": "execute_result"
    }
   ],
   "source": [
    "long = ds['longitude'][:]\n",
    "print(long)\n",
    "long = np.array(long)[0, :]\n",
    "x_index = np.argwhere((long>2.5) & (long<6.5)).flatten()\n",
    "x_index"
   ]
  },
  {
   "cell_type": "code",
   "execution_count": null,
   "metadata": {},
   "outputs": [
    {
     "ename": "NameError",
     "evalue": "name 'ds' is not defined",
     "output_type": "error",
     "traceback": [
      "\u001b[0;31m---------------------------------------------------------------------------\u001b[0m",
      "\u001b[0;31mNameError\u001b[0m                                 Traceback (most recent call last)",
      "Cell \u001b[0;32mIn[13], line 2\u001b[0m\n\u001b[1;32m      1\u001b[0m \u001b[38;5;28;01mimport\u001b[39;00m \u001b[38;5;21;01mnumpy\u001b[39;00m \u001b[38;5;28;01mas\u001b[39;00m \u001b[38;5;21;01mnp\u001b[39;00m\n\u001b[0;32m----> 2\u001b[0m Data \u001b[38;5;241m=\u001b[39m np\u001b[38;5;241m.\u001b[39marray(ds[\u001b[38;5;124m\"\u001b[39m\u001b[38;5;124mtp\u001b[39m\u001b[38;5;124m\"\u001b[39m][:, y_index, x_index])\n",
      "\u001b[0;31mNameError\u001b[0m: name 'ds' is not defined"
     ]
    }
   ],
   "source": [
    "import numpy as np\n",
    "Data = np.array(ds[\"tp\"][:, y_index, x_index])\n"
   ]
  },
  {
   "cell_type": "code",
   "execution_count": null,
   "metadata": {},
   "outputs": [
    {
     "data": {
      "text/plain": [
       "array([], shape=(1, 0, 1), dtype=float32)"
      ]
     },
     "execution_count": 15,
     "metadata": {},
     "output_type": "execute_result"
    }
   ],
   "source": [
    "data = np.load('download/cerra/si10-2019.npy')\n",
    "data"
   ]
  },
  {
   "cell_type": "code",
   "execution_count": 19,
   "metadata": {},
   "outputs": [],
   "source": [
    "\n",
    "variable = '10m_wind_speed'\n",
    "var_name = ''\n",
    "if variable == 'total_precipitation':\n",
    "    var_name = 'tp'\n",
    "elif variable == '10m_wind_speed':\n",
    "    var_name = 'si10'\n",
    "else:\n",
    "    print(\"Variable not supported!\")\n",
    "    print(\"Supported variables: total_precipitation, 10m_wind_speed\")\n",
    "\n",
    "file_path = 'download/cerra/si10-2019.nc'\n",
    "\n",
    "year = file_path.split('/')[-1].split('-')[1].split('.')[0]\n",
    "\n",
    "data = nc.Dataset(file_path)\n",
    "\n",
    "lat = data['latitude'][:, 0]\n",
    "y_index = np.where((lat <= 52) & (lat >= 49))[0]\n",
    "\n",
    "lon = data['longitude'][0, :]\n",
    "x_index = np.where((lon >= 2) & (lon <= 7))[0]\n",
    "\n",
    "filter_lat = np.array(lat[y_index])\n",
    "filter_lon = np.array(lon[x_index])\n",
    "filter_data = np.array(data[var_name][:, y_index, x_index])\n",
    "datetime = np.array(data[\"valid_time\"][:])\n",
    "\n",
    "if not os.path.exists('download/cerra/lat.npy'):\n",
    "    np.save('download/cerra/lat.npy', filter_lat)\n",
    "if not os.path.exists('download/cerra/lon.npy'):\n",
    "    np.save('download/cerra/lon.npy', filter_lon)\n",
    "if not os.path.exists('download/cerra/datetime_' + year + '.npy'):\n",
    "    np.save('download/cerra/datetime_' + year + '.npy', datetime)\n",
    "file_name = file_path.split('/')[-1].split('.')[0]\n",
    "np.save('download/cerra/' + file_name + '.npy', filter_data)"
   ]
  },
  {
   "cell_type": "code",
   "execution_count": 21,
   "metadata": {},
   "outputs": [
    {
     "data": {
      "text/plain": [
       "(2920, 73, 101)"
      ]
     },
     "execution_count": 21,
     "metadata": {},
     "output_type": "execute_result"
    }
   ],
   "source": [
    "filter_data.shape"
   ]
  },
  {
   "cell_type": "code",
   "execution_count": null,
   "metadata": {},
   "outputs": [
    {
     "data": {
      "image/png": "[encoded data removed]",
      "text/plain": [
       "<Figure size 640x480 with 2 Axes>"
      ]
     },
     "metadata": {},
     "output_type": "display_data"
    },
    {
     "data": {
      "image/png": "[encoded data removed]",
      "text/plain": [
       "<Figure size 640x480 with 2 Axes>"
      ]
     },
     "metadata": {},
     "output_type": "display_data"
    }
   ],
   "source": [
    "min_val = np.min(Data)\n",
    "max_val = np.max(Data)\n",
    "\n",
    "# Plot each random sample\n",
    "for i in range(2):\n",
    "    rand_num = np.random.randint(0, 2920)\n",
    "    plt.figure()\n",
    "    plt.imshow(Data[rand_num])\n",
    "    \n",
    "    # Set the color scale limits based on the min and max values\n",
    "    plt.colorbar(ticks=np.linspace(min_val, max_val, num=20))\n",
    "    plt.clim(min_val, max_val)\n",
    "    \n",
    "    plt.show()"
   ]
  },
  {
   "cell_type": "code",
   "execution_count": null,
   "metadata": {},
   "outputs": [],
   "source": []
  }
 ],
 "metadata": {
  "kernelspec": {
   "display_name": "Weather",
   "language": "python",
   "name": "python3"
  },
  "language_info": {
   "codemirror_mode": {
    "name": "ipython",
    "version": 3
   },
   "file_extension": ".py",
   "mimetype": "text/x-python",
   "name": "python",
   "nbconvert_exporter": "python",
   "pygments_lexer": "ipython3",
   "version": "3.11.5"
  }
 },
 "nbformat": 4,
 "nbformat_minor": 4
}
