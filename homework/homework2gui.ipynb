{
 "cells": [
  {
   "cell_type": "markdown",
   "metadata": {
    "id": "DO_r7pkzX_NG"
   },
   "source": [
    "# INFO8010: Homework 2\n",
    "\n",
    "In the previous homework, you learned how to program your first neural network starting from the very first principles of deep learning. If you managed to solve last assignment without any problems **congratulations!** If that was not the case **don't worry**, here's a second assignment for you which you can use to get better at deep learning.\n",
    "\n",
    "In this homework we will see some slighly more complicated deep learning concepts: we will start by taking a look at some of PyTorch's functionalities that are necessary for training deep networks efficiently. We will then train our first neural networks for tackling different image classification tasks, learn to build custom datasets and explore how to train a CNN.  \n",
    "\n",
    "The strucutre of the notebook is identical to the one of the previous homework. Similarly to last time, you have to submit the notebook **with your solutions** to the exercises. When you encounter a `# your code` comment, you have to write some code yourself and you have to discuss the code/results when you see the instruction\n",
    "\n",
    "> your discussion\n",
    "\n",
    "Without further ado let's start by importing the libraries we will need throughout this assignment!"
   ]
  },
  {
   "cell_type": "code",
   "execution_count": null,
   "metadata": {
    "id": "eUYfLRSfX_NL"
   },
   "outputs": [],
   "source": [
    "import matplotlib.pyplot as plt\n",
    "import numpy as np\n",
    "import torch\n",
    "import torch.nn as nn\n",
    "import torch.optim as optim\n",
    "import torch.utils.data as data\n",
    "\n",
    "from PIL import Image\n",
    "from torchvision import datasets, transforms, utils"
   ]
  },
  {
   "cell_type": "code",
   "execution_count": null,
   "metadata": {
    "id": "p3RJpyJ1X_NM"
   },
   "outputs": [],
   "source": [
    "# As of 2022/02/23, the CIFAR10 dataset SSL certificate is outdated which prevents its download.\n",
    "# The following deactivates the verification of the SSL certificates, but\n",
    "# never reproduce this unless you absolutely trust the source.\n",
    "import ssl\n",
    "ssl._create_default_https_context = ssl._create_unverified_context"
   ]
  },
  {
   "cell_type": "markdown",
   "metadata": {
    "id": "wCUhiRGFX_NO"
   },
   "source": [
    "## 1. Dataloaders\n",
    "\n",
    "Today's first concept are PyTorch's dataloaders. As you have seen during the theoretical lectures, one of the main ingredients for successfully training deep learning models is data, **lots of data**.\n",
    "\n",
    "As you can easily imagine, it is not possible to load datasets of millions of images into the memory of your machine. Furthermore, these images come in a form that does not make it possible to exploit the tensor operations we have seen in the previous assignment.\n",
    "\n",
    "To deal with these issues (and many more of them) we can use [dataloaders](https://pytorch.org/docs/stable/data.html), a data loading utility that allows us to deal with large datasets efficiently. In what follows, you are given your first example of dataloader which will use the popular [CIFAR10](https://www.cs.toronto.edu/~kriz/cifar.html) dataset."
   ]
  },
  {
   "cell_type": "code",
   "execution_count": null,
   "metadata": {
    "colab": {
     "base_uri": "https://localhost:8080/"
    },
    "id": "kd3INGQ_X_NP",
    "outputId": "8961d410-1dda-4e3d-8924-bf2d7fb86e74"
   },
   "outputs": [],
   "source": [
    "transform = transforms.Compose([transforms.ToTensor()])\n",
    "trainset = datasets.CIFAR10(root='./data', train=True, download=True, transform=transform)\n",
    "testset = datasets.CIFAR10(root='./data', train=False, transform=transform)"
   ]
  },
  {
   "cell_type": "markdown",
   "metadata": {
    "id": "oNA3hR7IX_NQ"
   },
   "source": [
    "Let's explain what we just did. Thanks to PyTorch's [torchvision](https://pytorch.org/vision/stable/index.html) sub-library, we just downloaded the CIFAR10 dataset on our machine. The dataset was stored in the `./data` folder and comes in two different forms thanks to the use of the `train` flag: a version that can be used as training set, and a version that can be used as testing set. These two datasets are subclasses of `torch`'s `data.Dataset` class. We will see later what this `data.Dataset` class consists in exactly. Torchvision also allows us to define a set of image transformations which we have defined at the beginning of this cell: in this case we would like to convert our images to tensors, see the [documentation](https://pytorch.org/vision/stable/transforms.html#torchvision.transforms.ToTensor) for an exact description of this transformation.\n",
    "\n",
    "Now that we have defined which dataset we would like to use, and the form in which we would like to have our images, we can create our first data loader. Data loaders are objects over which you can iterate and that load, transform and return mini-batches of inputs/targets at each iteration. The advantage of data loaders is that they (can) perform pre-processing of the data in parallel, i.e. in several concurrent worker pools.\n",
    "\n",
    "Here, we create two data loaders that return mini-batches of 4 elements at each iteration. When using stochastic gradient descent (SGD), the training data loader should shuffle the training dataset."
   ]
  },
  {
   "cell_type": "code",
   "execution_count": null,
   "metadata": {
    "id": "8IjoncTPX_NQ"
   },
   "outputs": [],
   "source": [
    "trainloader = data.DataLoader(trainset, batch_size=4, shuffle=True, num_workers=2)\n",
    "testloader = data.DataLoader(testset, batch_size=4, shuffle=False, num_workers=2)"
   ]
  },
  {
   "cell_type": "markdown",
   "metadata": {
    "id": "WmVrk4uxX_NR"
   },
   "source": [
    "Before training anything, let's take a look at the images we just downloaded."
   ]
  },
  {
   "cell_type": "code",
   "execution_count": null,
   "metadata": {
    "colab": {
     "base_uri": "https://localhost:8080/",
     "height": 211
    },
    "id": "y0z5B_ByX_NS",
    "outputId": "142ed6e8-e4f3-45e7-defa-79eac643beaa",
    "scrolled": true
   },
   "outputs": [],
   "source": [
    "classes = ('plane', 'car', 'bird', 'cat', 'deer', 'dog', 'frog', 'horse', 'ship', 'truck')\n",
    "\n",
    "def show_images(img):\n",
    "    plt.imshow(transforms.functional.to_pil_image(img))\n",
    "    plt.show()\n",
    "\n",
    "images, labels = next(iter(trainloader))\n",
    "show_images(utils.make_grid(images))\n",
    "print(*[classes[l] for l in labels])"
   ]
  },
  {
   "cell_type": "markdown",
   "metadata": {
    "id": "h-NccJgIX_NS"
   },
   "source": [
    "The `transforms` module comes also in as very handy for performing other type of data transformations: here's an example which transforms the CIFAR10 images into gray scaled images."
   ]
  },
  {
   "cell_type": "code",
   "execution_count": null,
   "metadata": {
    "colab": {
     "base_uri": "https://localhost:8080/",
     "height": 211
    },
    "id": "LuuYkNaaX_NT",
    "outputId": "b73ae55d-1e35-4dc7-b85b-8eb192641216"
   },
   "outputs": [],
   "source": [
    "transform = transforms.Compose([transforms.Grayscale(), transforms.ToTensor()])\n",
    "gray_scaled_trainset = datasets.CIFAR10(root='./data', train=True, transform=transform)\n",
    "gray_scaled_trainloader = data.DataLoader(gray_scaled_trainset, batch_size=4, shuffle=True, num_workers=2)\n",
    "\n",
    "images, labels = next(iter(gray_scaled_trainloader))\n",
    "show_images(utils.make_grid(images))\n",
    "print(*[classes[l] for l in labels])"
   ]
  },
  {
   "cell_type": "markdown",
   "metadata": {
    "id": "BJRluKD2X_NV"
   },
   "source": [
    "### 1.1 Transforms\n",
    "\n",
    "Al remembered from the theoretical lectures that one way to make neural networks converge faster is to **normalize** the pixel values. He wrote the following code snippet to normalize his training set, but he encountered an error."
   ]
  },
  {
   "cell_type": "code",
   "execution_count": null,
   "metadata": {
    "id": "udNxUspGX_Nv"
   },
   "outputs": [],
   "source": [
    "# transform = transforms.Compose([\n",
    "#     transforms.Normalize((0.5, 0.5, 0.5), (0.5, 0.5, 0.5)),\n",
    "#     transforms.ToTensor(),\n",
    "# ])\n",
    "# bugged_trainset = datasets.CIFAR10(root='./data', train=True, transform=transform)\n",
    "# bugged_trainloader = data.DataLoader(bugged_trainset, batch_size=4, shuffle=True, num_workers=2)\n",
    "\n",
    "# images, labels = next(iter(bugged_trainloader))\n",
    "# show_images(utils.make_grid(images))  # should look weird due to normalization\n",
    "# print(*[classes[l] for l in labels])"
   ]
  },
  {
   "cell_type": "markdown",
   "metadata": {
    "id": "f3XgnUHaX_Nw"
   },
   "source": [
    "Fix his mistake."
   ]
  },
  {
   "cell_type": "code",
   "execution_count": null,
   "metadata": {
    "colab": {
     "base_uri": "https://localhost:8080/",
     "height": 229
    },
    "id": "AlCw-CLHX_Nw",
    "outputId": "87261933-63d0-461b-c2a5-ee6aec4a259c"
   },
   "outputs": [],
   "source": [
    "transform = transforms.Compose([\n",
    "    transforms.ToTensor(),\n",
    "    transforms.Normalize(mean=[0.5, 0.5, 0.5], std=[0.5, 0.5, 0.5])\n",
    "])\n",
    "trainset = datasets.CIFAR10(root='./data', train=True, transform=transform, download=True)\n",
    "trainloader = data.DataLoader(trainset, batch_size=4, shuffle=True, num_workers=2)\n",
    "\n",
    "images, labels = next(iter(trainloader))\n",
    "show_images(utils.make_grid(images))  # should look weird due to normalization\n",
    "print(*[classes[l] for l in labels])"
   ]
  },
  {
   "cell_type": "markdown",
   "metadata": {
    "id": "nChFjBotX_Nx"
   },
   "source": [
    "Al also remembers that, with image datasets, a common practice to increase the robustness of neural networks is **data augmentation**. He wants to apply random flips (vertical and horizontal) and random color changes to his training set, but he does not know how to. Could you help him?"
   ]
  },
  {
   "cell_type": "code",
   "execution_count": null,
   "metadata": {
    "colab": {
     "base_uri": "https://localhost:8080/",
     "height": 229
    },
    "id": "6mA6ioWsX_Ny",
    "outputId": "63ba527f-c15c-4b6d-f8a0-ea06ff2546a6"
   },
   "outputs": [],
   "source": [
    "transform_train = transforms.Compose([\n",
    "    transforms.RandomHorizontalFlip(),\n",
    "    transforms.RandomVerticalFlip(),\n",
    "    transforms.ColorJitter(brightness=0.1, contrast=0.1, saturation=0.1, hue=0.1),\n",
    "    transforms.ToTensor(),\n",
    "    transforms.Normalize(mean=[0.5, 0.5, 0.5], std=[0.5, 0.5, 0.5])\n",
    "])\n",
    "\n",
    "trainset = datasets.CIFAR10(root='./data', train=True, download=True, transform=transform_train)\n",
    "trainloader = data.DataLoader(trainset, batch_size=4, shuffle=True, num_workers=2)\n",
    "\n",
    "images, labels = next(iter(trainloader))\n",
    "show_images(utils.make_grid(images))\n",
    "print(*[classes[l] for l in labels])"
   ]
  },
  {
   "cell_type": "markdown",
   "metadata": {
    "id": "YoDSgVOlX_Ny"
   },
   "source": [
    "### 1.2 Running operations on a GPU\n",
    "\n",
    "As you may know, one important aspect of deep learning is that large models can be trained efficiently on specialized hardwares such as Graphical Processing Units (GPUs) or Tensorial Processing Units (TPUs). PyTorch allows you to perform operations on GPUs very easily by transferring the concerned models and/or tensors to GPUs.\n",
    "\n",
    "However, to do so, you need a CUDA compatible GPU."
   ]
  },
  {
   "cell_type": "code",
   "execution_count": null,
   "metadata": {
    "colab": {
     "base_uri": "https://localhost:8080/"
    },
    "id": "ge8-5lStX_Ny",
    "outputId": "b1e9b10a-c027-4d0e-9732-950ba8fc1eb1"
   },
   "outputs": [],
   "source": [
    "torch.cuda.is_available()"
   ]
  },
  {
   "cell_type": "markdown",
   "metadata": {
    "id": "6SbegAPFX_Nz"
   },
   "source": [
    "If the result of the previous cell is `True`, everything is ready to run on the GPU and you can continue. Otherwise it means you do not have any GPU that is compatible with the `torch` version installed on your machine. In this case, we invite you to use [Google Colab](https://colab.research.google.com/) to do the rest of this homework. Do not forget to ask Colab for a GPU (in Runtime > Change runtime type > Hardware accelerator)."
   ]
  },
  {
   "cell_type": "code",
   "execution_count": null,
   "metadata": {
    "id": "3JRc5w4AX_Nz"
   },
   "outputs": [],
   "source": [
    "device = 'cuda'"
   ]
  },
  {
   "cell_type": "markdown",
   "metadata": {
    "id": "1VPFYD-5X_N0"
   },
   "source": [
    "Let's compare the speed of tensor operations on GPU and CPU."
   ]
  },
  {
   "cell_type": "code",
   "execution_count": null,
   "metadata": {
    "colab": {
     "base_uri": "https://localhost:8080/"
    },
    "id": "wMQPZGHCX_N0",
    "outputId": "16382d11-ec81-45e0-f584-66e2297cf089"
   },
   "outputs": [],
   "source": [
    "A = torch.randn(1000, 100000)\n",
    "B = torch.randn(100000, 1)\n",
    "\n",
    "# on CPU\n",
    "%timeit A @ B"
   ]
  },
  {
   "cell_type": "code",
   "execution_count": null,
   "metadata": {
    "colab": {
     "base_uri": "https://localhost:8080/"
    },
    "id": "WLETqonHX_N1",
    "outputId": "a46a204f-d7ec-44dd-df91-78963f52689a"
   },
   "outputs": [],
   "source": [
    "A = torch.randn((1000, 100000), device=device)\n",
    "B = torch.randn((100000, 1), device=device)\n",
    "\n",
    "# on GPU\n",
    "%timeit A @ B"
   ]
  },
  {
   "cell_type": "markdown",
   "metadata": {
    "id": "_3g_7V7VX_N1"
   },
   "source": [
    "Instead of directly creating a tensor on the GPU you may also transfer a model or a tensor on the GPU, for example we can transfer a simple MLP on the GPU and then back to the CPU as follows."
   ]
  },
  {
   "cell_type": "code",
   "execution_count": null,
   "metadata": {
    "colab": {
     "base_uri": "https://localhost:8080/"
    },
    "id": "7HWhhbUfX_N2",
    "outputId": "8cd0c304-4baa-4cd4-9fbc-60c53726ab9d"
   },
   "outputs": [],
   "source": [
    "# create MLP on CPU\n",
    "mlp = nn.Sequential(\n",
    "    nn.Linear(3, 512),\n",
    "    nn.ReLU(),\n",
    "    nn.Linear(512, 512),\n",
    "    nn.ReLU(),\n",
    "    nn.Linear(512, 512),\n",
    "    nn.ReLU(),\n",
    "    nn.Linear(512, 1),\n",
    "    nn.Sigmoid(),\n",
    ")\n",
    "\n",
    "# forward pass on CPU\n",
    "x = torch.randn(256, 3)\n",
    "%timeit mlp(x)\n",
    "\n",
    "# transfer MLP to GPU (in-place)\n",
    "mlp.to(device)\n",
    "\n",
    "# forward pass on GPU\n",
    "x = x.to(device)\n",
    "%timeit mlp(x)\n",
    "\n",
    "# release the GPU memory\n",
    "mlp.to('cpu')\n",
    "x = x.to('cpu')"
   ]
  },
  {
   "cell_type": "markdown",
   "metadata": {
    "id": "Od0DIZYAX_N2"
   },
   "source": [
    "As you may notice, computations are much faster on the GPU. However, data transfer between GPU and CPU (and vice-versa) is usually very slow. We recommend to reduce the transfers of data between GPU and CPU as much as possible. For example when you want to save your loss after each iteration, in order to avoid a memory leak, you should prefer doing `.detach()` rather than `.cpu()` or `.item()`."
   ]
  },
  {
   "cell_type": "markdown",
   "metadata": {
    "id": "hpoRFrBQX_N2"
   },
   "source": [
    "## 2.  Classifying the CIFAR10 dataset with an MLP\n",
    "\n",
    "Now that you know how to handle datasets, we are ready to properly train today's first deep learning model on the CIFAR10 dataset. Before we dive into it, **do not underestimate** the importance of properly pre-processing the data before training neural networks. This step is as important as defining the neural architectures themselves, but is very often overlooked.\n",
    "\n",
    "In this exercise you are provided with an already defined multi-layer perceptron that you can train to classify CIFAR10 images. The structure of the network is already defined, yet some crucial hyperparameters are missing. It is your job to fill them in and successfully train the network. As part of the exercise, you are also required to monitor the evolution of training: this usually consists in checking how the training and testing losses evolve during training and keeping track of the model's accuracy on the testing set. Report these statistics with some plots. In addition, transfer the network and the mini-batches on GPU to speed up training.\n",
    "\n",
    "Fill in the code below, discuss your choices and your results. Are you satisfied with the final accuracy?"
   ]
  },
  {
   "cell_type": "code",
   "execution_count": null,
   "metadata": {
    "colab": {
     "base_uri": "https://localhost:8080/"
    },
    "id": "sW_HmRlCX_N3",
    "outputId": "9c08531c-b1f7-4240-fd5d-41e4a1cf11b9"
   },
   "outputs": [],
   "source": [
    "from tqdm import tqdm\n",
    "\n",
    "input_features = 3 * 32 * 32\n",
    "output_features = 10\n",
    "hidden_features = 10000\n",
    "learning_rate = 0.001\n",
    "num_epochs = 50\n",
    "batch_size = 100 # given\n",
    "weight_decay = 0.0001\n",
    "\n",
    "transform_train = transforms.Compose([\n",
    "    transforms.RandomCrop(32, padding=4),\n",
    "    transforms.RandomHorizontalFlip(),\n",
    "    transforms.ColorJitter(brightness=0.1, contrast=0.1, saturation=0.1, hue=0.1),\n",
    "    transforms.ToTensor(),\n",
    "    transforms.Normalize(mean=[0.5, 0.5, 0.5], std=[0.5, 0.5, 0.5])\n",
    "])\n",
    "\n",
    "transform_test = transforms.Compose([\n",
    "    transforms.ToTensor(),\n",
    "    transforms.Normalize(mean=[0.5, 0.5, 0.5], std=[0.5, 0.5, 0.5])\n",
    "])\n",
    "\n",
    "trainset = datasets.CIFAR10(root='./data', train=True, transform=transform_train, download=True)\n",
    "testset = datasets.CIFAR10(root='./data', train=False, transform=transform_test, download=True)\n",
    "\n",
    "trainloader = torch.utils.data.DataLoader(trainset, batch_size=batch_size, shuffle=True, num_workers=2, pin_memory=True)\n",
    "testloader = torch.utils.data.DataLoader(testset, batch_size=batch_size, shuffle=False, num_workers=2, pin_memory=True)\n",
    "\n",
    "class MLP(nn.Sequential):\n",
    "    def __init__(self, input_features, output_features, hidden_features):\n",
    "        super().__init__(\n",
    "            nn.Flatten(),\n",
    "            nn.Linear(input_features, hidden_features),\n",
    "            nn.ReLU(),\n",
    "            nn.Linear(hidden_features, hidden_features),\n",
    "            nn.ReLU(),\n",
    "            nn.Linear(hidden_features, hidden_features),\n",
    "            nn.ReLU(),\n",
    "            nn.Linear(hidden_features, output_features),\n",
    "        )\n",
    "\n",
    "network = MLP(input_features, output_features, hidden_features)\n",
    "\n",
    "criterion = nn.CrossEntropyLoss()\n",
    "optimizer = torch.optim.Adam(network.parameters(), lr=learning_rate, weight_decay=weight_decay)\n",
    "scheduler = torch.optim.lr_scheduler.ReduceLROnPlateau(optimizer, mode='max', factor=0.1, patience=3)\n",
    "\n",
    "device = torch.device(\"cuda\" if torch.cuda.is_available() else \"cpu\")\n",
    "network.to(device)\n",
    "criterion.to(device)\n",
    "\n",
    "def train(num_epochs):\n",
    "    train_avg_loss = []\n",
    "    test_avg_loss = []\n",
    "    test_accuracy = []\n",
    "    best_accuracy = 0\n",
    "\n",
    "    for i in tqdm(range(num_epochs)):\n",
    "        train_losses = []\n",
    "        test_losses = []\n",
    "\n",
    "        for x, y in trainloader:\n",
    "            x, y = x.to(device), y.to(device)\n",
    "            pred = network(x)\n",
    "            loss = criterion(pred, y)\n",
    "            train_losses.append(loss.detach())\n",
    "\n",
    "            optimizer.zero_grad()\n",
    "            loss.backward()\n",
    "            optimizer.step()\n",
    "\n",
    "        with torch.no_grad():\n",
    "            correct = 0\n",
    "\n",
    "            for x, y in testloader:\n",
    "                x, y = x.to(device), y.to(device)\n",
    "                pred = network(x)\n",
    "                loss = criterion(pred, y)\n",
    "                test_losses.append(loss)\n",
    "\n",
    "                y_pred = pred.argmax(dim=-1)\n",
    "                correct += (y_pred == y).sum().item()\n",
    "\n",
    "            accuracy = correct / len(testset)\n",
    "            scheduler.step(accuracy)\n",
    "\n",
    "            if accuracy > best_accuracy:\n",
    "                best_accuracy = accuracy\n",
    "                torch.save(network.state_dict(), 'cifar10_mlp.pth')\n",
    "\n",
    "        train_avg_loss.append(torch.stack(train_losses).mean())\n",
    "        test_avg_loss.append(torch.stack(test_losses).mean())\n",
    "        test_accuracy.append(accuracy)\n",
    "\n",
    "    return train_avg_loss, test_avg_loss, test_accuracy\n"
   ]
  },
  {
   "cell_type": "code",
   "execution_count": null,
   "metadata": {
    "colab": {
     "base_uri": "https://localhost:8080/"
    },
    "id": "Qau5jLKXX_N3",
    "outputId": "32b8f3f7-ecc3-452a-afa3-03f8d17c7089"
   },
   "outputs": [],
   "source": [
    "train_avg_loss, test_avg_loss, test_accuracy = train(num_epochs)"
   ]
  },
  {
   "cell_type": "code",
   "execution_count": null,
   "metadata": {
    "id": "y3d0sKOUX_N4"
   },
   "outputs": [],
   "source": [
    "train_avg_loss_cpu = [train_loss.cpu() for train_loss in train_avg_loss]\n",
    "test_avg_loss_cpu = [test_loss.cpu() for test_loss in test_avg_loss]"
   ]
  },
  {
   "cell_type": "code",
   "execution_count": null,
   "metadata": {
    "id": "iJho7RhnhI74"
   },
   "outputs": [],
   "source": [
    "import os\n",
    "\n",
    "os.mkdir(\"./MLP\")\n",
    "\n",
    "np.save('./MLP/TrAvgLoss', train_avg_loss_cpu)\n",
    "np.save('./MLP/TeAvgLoss', test_avg_loss_cpu)\n",
    "np.save('./MLP/TeAcc', test_accuracy)"
   ]
  },
  {
   "cell_type": "markdown",
   "metadata": {
    "id": "kjD2JOMJX_N4"
   },
   "source": [
    "Plot the statistics below and discuss your hyperparameter choices."
   ]
  },
  {
   "cell_type": "code",
   "execution_count": null,
   "metadata": {
    "id": "bGRlV9dGhMwZ"
   },
   "outputs": [],
   "source": [
    "train_avg_loss_cpu = np.load('./MLP/TrAvgLoss.npy')\n",
    "test_avg_loss_cpu = np.load('./MLP/TeAvgLoss.npy')\n",
    "test_accuracy = np.load('./MLP/TeAcc.npy')"
   ]
  },
  {
   "cell_type": "code",
   "execution_count": null,
   "metadata": {
    "colab": {
     "base_uri": "https://localhost:8080/",
     "height": 900
    },
    "id": "bNu5v9QkhQa4",
    "outputId": "33018d54-4601-47c5-f802-cbb119931a26"
   },
   "outputs": [],
   "source": [
    "# plot the training and testing losses\n",
    "plt.figure(figsize=(10, 5))\n",
    "plt.plot(train_avg_loss_cpu, label=\"Training Loss\")\n",
    "plt.plot(test_avg_loss_cpu, label=\"Testing Loss\")\n",
    "plt.legend()\n",
    "plt.title(\"Training and Testing Loss\")\n",
    "plt.xlabel(\"Epoch\")\n",
    "plt.ylabel(\"Loss\")\n",
    "plt.show()\n",
    "\n",
    "# plot the testing accuracy\n",
    "plt.figure(figsize=(10, 5))\n",
    "plt.plot(test_accuracy)\n",
    "plt.title(\"Testing Accuracy\")\n",
    "plt.xlabel(\"Epoch\")\n",
    "plt.ylabel(\"Accuracy\")\n",
    "plt.show()"
   ]
  },
  {
   "cell_type": "code",
   "execution_count": null,
   "metadata": {
    "colab": {
     "base_uri": "https://localhost:8080/"
    },
    "id": "57tfkXnihTcF",
    "outputId": "eb495bf0-67e5-4c2c-c886-cfca7f643d42"
   },
   "outputs": [],
   "source": [
    "print(\"Final testing accuracy\", test_accuracy[-1])"
   ]
  },
  {
   "cell_type": "markdown",
   "metadata": {
    "id": "bW_dM5D-X_N4"
   },
   "source": [
    "The parameters choosed are the following :\n",
    "- `optimizer` = Adam, very popular\n",
    "- `loss_function` = CrossEntropyLoss, classical for classification\n",
    "- `input_features` = 3 x 32 x 32 to represent the RGB 32 by 32 pixels images\n",
    "- `output_features` = 10 representing the 10 classes from the dataset\n",
    "- `hidden_features` = 10000 to make a pretty deep multilayer perceptron\n",
    "- `learning_rate` = 0.001 usual value for the learning rate\n",
    "- `epochs` = 50 usual value\n",
    "- `weight_decay` = 0.0001 usual value for weight decay in the optimizer\n",
    "\n",
    "We also implemented data augmentation on the training set as seen in the previous snippets to improve our neural network and a scheduler on the optimizer to dynamically tune our learning rate.\n",
    "\n",
    "We have an accuracy around 55% on the test set which is not really impressive but behaves as expected as we are using a simple multilayer perceptron and not a convolutional neural network that is able to perceive images in a better way by using convolutions products to observe the data in a better way."
   ]
  },
  {
   "cell_type": "markdown",
   "metadata": {
    "id": "O1HgOfJMX_N5"
   },
   "source": [
    "## 3.  Create a custom dataset\n",
    "\n",
    "Sometimes you would like to train a model on your own dataset, which will very likely not be part of `torchvision`. To overcome this you can create a custom dataset class which will handle the data for you. This can be done by inheriting from `torch`'s `data.Dataset` class and defining the methods `__len__` and `__getitem__` (see the [documentation](https://pytorch.org/docs/stable/data.htm)).\n",
    "\n",
    "In this exercise your goal is to program a custom dataset class which you will later use for training a CNN. We will use the Kaggle Cats and Dogs dataset which you can download from [here](https://www.microsoft.com/en-us/download/details.aspx?id=54765). Note that some images may have different shapes. It is up to you to deal with this elegantly. In addition, some images may be corrupted. You can simply remove those.\n",
    "\n",
    "When programming a custom dataset class, you have to start by defining the constructor, which will get as input the location of your dataset, whether the images that will be returned will serve for training or testing, and some other potential attributes. For this exercise we will be using 20000 images for training and 5000 images for testing. For the `__getitem__` function you may find the `PIL.Image.open` useful. Do not forget to transform the images into tensors and return the image labels as well ($0$ or $1$)."
   ]
  },
  {
   "cell_type": "code",
   "execution_count": null,
   "metadata": {
    "colab": {
     "base_uri": "https://localhost:8080/"
    },
    "id": "XCNJDWN7kB7j",
    "outputId": "78997b39-62ab-4fd4-be0d-0615c752dd77"
   },
   "outputs": [],
   "source": [
    "import os\n",
    "\n",
    "!wget https://download.microsoft.com/download/3/E/1/3E1C3F21-ECDB-4869-8368-6DEBA77B919F/kagglecatsanddogs_5340.zip\n",
    "!unzip kagglecatsanddogs_5340.zip"
   ]
  },
  {
   "cell_type": "code",
   "execution_count": null,
   "metadata": {
    "colab": {
     "base_uri": "https://localhost:8080/"
    },
    "id": "uwjCNuA2X_N5",
    "outputId": "129241de-d3ec-4ed8-ef94-42583b79b4a5"
   },
   "outputs": [],
   "source": [
    "# Corrupted images Cat/666 and Dog/11702 have been removed\n",
    "from tqdm import tqdm\n",
    "import os\n",
    "import random\n",
    "import shutil\n",
    "\n",
    "os.remove('./PetImages/Cat/666.jpg')\n",
    "os.remove('./PetImages/Dog/11702.jpg')\n",
    "\n",
    "num_test_images = 2500\n",
    "\n",
    "src_folder = './PetImages'\n",
    "dst_folder = './PetImages_CNN'\n",
    "\n",
    "if os.path.exists(dst_folder):\n",
    "    shutil.rmtree(dst_folder)\n",
    "\n",
    "os.makedirs(os.path.join(dst_folder, \"Train\", \"Cat\"), exist_ok=True)\n",
    "os.makedirs(os.path.join(dst_folder, \"Train\", \"Dog\"), exist_ok=True)\n",
    "os.makedirs(os.path.join(dst_folder, \"Test\", \"Cat\"), exist_ok=True)\n",
    "os.makedirs(os.path.join(dst_folder, \"Test\", \"Dog\"), exist_ok=True)\n",
    "\n",
    "\n",
    "for cl in ['Cat', 'Dog']:\n",
    "    src_class_folder = os.path.join(src_folder, cl)\n",
    "    images = os.listdir(src_class_folder)\n",
    "    random.shuffle(images)\n",
    "    num_images = len(images)\n",
    "    print(\"# of images of \" + cl + \" = \" + str(num_images))\n",
    "\n",
    "    test_images = images[:num_test_images]\n",
    "    train_images = images[num_test_images:]\n",
    "\n",
    "    for image in tqdm(test_images):\n",
    "        src_path = os.path.join(src_folder, cl, image)\n",
    "        dst_path = os.path.join(dst_folder, 'Test', cl, image)\n",
    "        shutil.copy(src_path, dst_path)\n",
    "\n",
    "    for image in tqdm(train_images):\n",
    "        src_path = os.path.join(src_folder, cl, image)\n",
    "        dst_path = os.path.join(dst_folder, 'Train', cl, image)\n",
    "        shutil.copy(src_path, dst_path)"
   ]
  },
  {
   "cell_type": "code",
   "execution_count": null,
   "metadata": {
    "id": "B3xubtaQkOXs"
   },
   "outputs": [],
   "source": [
    "class CatAndDogsDataset(data.Dataset):\n",
    "    def __init__(self, root_dir, train=True, transform=None):\n",
    "        \"\"\"Initializes a dataset containing images and labels.\"\"\"\n",
    "        super().__init__()\n",
    "        self.root_dir = root_dir\n",
    "        self.transform = transform\n",
    "        self.file_list = []\n",
    "        self.train=train\n",
    "        self.classes = {'Cat' : 0, 'Dog' : 1}\n",
    "\n",
    "        if self.train:\n",
    "            for cl in self.classes:\n",
    "                dir_path = os.path.join(root_dir, 'Train', cl)\n",
    "                for filename in os.listdir(dir_path):\n",
    "                    if filename.endswith('.jpg'):\n",
    "                        self.file_list.append((os.path.join(dir_path, filename), self.classes[cl]))\n",
    "        else:\n",
    "            for cl in self.classes:\n",
    "                dir_path = os.path.join(root_dir, 'Test', cl)\n",
    "                for filename in os.listdir(dir_path):\n",
    "                    if filename.endswith('.jpg'):\n",
    "                        self.file_list.append((os.path.join(dir_path, filename), self.classes[cl]))\n",
    "\n",
    "    def __len__(self):\n",
    "        \"\"\"Returns the size of the dataset.\"\"\"\n",
    "        return len(self.file_list)\n",
    "\n",
    "    def __getitem__(self, index):\n",
    "        \"\"\"Returns the index-th data item of the dataset.\"\"\"\n",
    "        path, label = self.file_list[index]\n",
    "        img = Image.open(path).convert('RGB')\n",
    "        if self.transform is not None:\n",
    "              img = self.transform(img)\n",
    "        return img, label"
   ]
  },
  {
   "cell_type": "markdown",
   "metadata": {
    "id": "asWQrrtKX_N5"
   },
   "source": [
    "Let us have a quick look at these samples."
   ]
  },
  {
   "cell_type": "code",
   "execution_count": null,
   "metadata": {
    "colab": {
     "base_uri": "https://localhost:8080/",
     "height": 440
    },
    "id": "HLCfi-boX_N5",
    "outputId": "4f0f32d5-f435-431b-e6dc-a9bfa54f5c7d"
   },
   "outputs": [],
   "source": [
    "def show_images(img):\n",
    "    plt.imshow(transforms.functional.to_pil_image(img))\n",
    "    plt.show()\n",
    "\n",
    "transform = transforms.Compose([\n",
    "    transforms.Resize((32, 32)),\n",
    "    transforms.ToTensor()\n",
    "])\n",
    "\n",
    "my_dataset_train = CatAndDogsDataset('./PetImages_CNN', transform=transform, train=True)\n",
    "my_loader_train = data.DataLoader(my_dataset_train, batch_size=4, shuffle=True, num_workers=2)\n",
    "\n",
    "my_dataset_test = CatAndDogsDataset('./PetImages_CNN', transform=transform, train=False)\n",
    "my_loader_test = data.DataLoader(my_dataset_test, batch_size=4, shuffle=True, num_workers=2)\n",
    "\n",
    "classes = ['Cat', 'Dog']\n",
    "\n",
    "print(\"Training Dataset length = \", my_dataset_train.__len__())\n",
    "images, labels = next(iter(my_loader_train))\n",
    "show_images(utils.make_grid(images))\n",
    "print(*[classes[l] for l in labels])\n",
    "\n",
    "print(\"Testing Dataset length = \", my_dataset_test.__len__())\n",
    "images, labels = next(iter(my_loader_test))\n",
    "show_images(utils.make_grid(images))\n",
    "print(*[classes[l] for l in labels])"
   ]
  },
  {
   "cell_type": "markdown",
   "metadata": {
    "id": "BEuAm1rdX_N6"
   },
   "source": [
    "## 4. Classifying the Cats and Dogs dataset with a CNN\n",
    "\n",
    "As we have seen in class, classifying images with a multi-layer perceptron isn't really a good idea. Convolutional Neural Networks (CNN) are in fact a much better option for this task. It is now your job to create your custom CNN and train it on the Cats and Dogs Dataset.\n",
    "\n",
    "Similarly to what you have done when classifying the CIFAR10 dataset you are again required to report and discuss the performance of your model."
   ]
  },
  {
   "cell_type": "code",
   "execution_count": null,
   "metadata": {
    "id": "m69Mtt4LX_N6"
   },
   "outputs": [],
   "source": [
    "from tqdm import tqdm\n",
    "import torch.nn.functional as F\n",
    "\n",
    "device = torch.device(\"cuda\" if torch.cuda.is_available() else \"cpu\")\n",
    "num_epochs = 30\n",
    "learning_rate = 0.001\n",
    "\n",
    "class CNN(nn.Module):\n",
    "    def __init__(self):\n",
    "        super(CNN, self).__init__()\n",
    "\n",
    "        self.layer1 = nn.Sequential(\n",
    "            nn.Conv2d(3, 16, kernel_size=3, padding=1, stride=1),\n",
    "            nn.BatchNorm2d(16),\n",
    "            nn.ReLU(),\n",
    "            nn.MaxPool2d(2)\n",
    "        )\n",
    "\n",
    "        self.layer2 = nn.Sequential(\n",
    "            nn.Conv2d(16, 32, kernel_size=3, padding=1, stride=1),\n",
    "            nn.BatchNorm2d(32),\n",
    "            nn.ReLU(),\n",
    "            nn.MaxPool2d(2)\n",
    "        )\n",
    "\n",
    "        self.layer3 = nn.Sequential(\n",
    "            nn.Conv2d(32, 64, kernel_size=3, padding=1, stride=1),\n",
    "            nn.BatchNorm2d(64),\n",
    "            nn.ReLU(),\n",
    "            nn.MaxPool2d(2)\n",
    "        )\n",
    "\n",
    "        self.layer4 = nn.Sequential(\n",
    "            nn.Conv2d(64, 128, kernel_size=3, padding=1, stride=1),\n",
    "            nn.BatchNorm2d(128),\n",
    "            nn.ReLU(),\n",
    "            nn.MaxPool2d(2)\n",
    "        )\n",
    "\n",
    "        self.layer5 = nn.Sequential(\n",
    "            nn.Conv2d(128, 256, kernel_size=3, padding=1, stride=1),\n",
    "            nn.BatchNorm2d(256),\n",
    "            nn.ReLU(),\n",
    "            nn.MaxPool2d(2)\n",
    "        )\n",
    "\n",
    "        self.fc1 = nn.Linear(7 * 7 * 256, 512)\n",
    "        self.relu = nn.ReLU()\n",
    "        self.fc2 = nn.Linear(512, 2)\n",
    "\n",
    "    def forward(self, x):\n",
    "        out = self.layer1(x)\n",
    "        out = self.layer2(out)\n",
    "        out = self.layer3(out)\n",
    "        out = self.layer4(out)\n",
    "        out = self.layer5(out)\n",
    "        out = out.view(out.size(0), -1)\n",
    "        out = self.relu(self.fc1(out))\n",
    "        out = self.fc2(out)\n",
    "        return out\n",
    "\n",
    "cats_dogs_CNN = CNN().to(device)\n",
    "cats_dogs_CNN.train()\n",
    "\n",
    "optimizer = optim.Adam(params=cats_dogs_CNN.parameters(), lr=learning_rate)\n",
    "criterion = nn.CrossEntropyLoss()\n",
    "\n",
    "transform_train = transforms.Compose([\n",
    "    transforms.Resize((224,224)),\n",
    "    transforms.RandomHorizontalFlip(),\n",
    "    transforms.ColorJitter(brightness=0.1, contrast=0.1, saturation=0.1, hue=0.1),\n",
    "    transforms.ToTensor(),\n",
    "    transforms.Normalize(mean=[0.5, 0.5, 0.5], std=[0.5, 0.5, 0.5])\n",
    "])\n",
    "\n",
    "transform_test = transforms.Compose([\n",
    "    transforms.Resize((224,224)),\n",
    "    transforms.ToTensor(),\n",
    "    transforms.Normalize(mean=[0.5, 0.5, 0.5], std=[0.5, 0.5, 0.5])\n",
    "])\n",
    "\n",
    "trainset = CatAndDogsDataset('./PetImages_CNN', train=True, transform=transform_train)\n",
    "testset = CatAndDogsDataset('./PetImages_CNN', train=False, transform=transform_test)\n",
    "\n",
    "batch_size = 100\n",
    "\n",
    "trainloader = torch.utils.data.DataLoader(trainset, batch_size=batch_size, shuffle=True, num_workers=2, pin_memory=True)\n",
    "testloader = torch.utils.data.DataLoader(testset, batch_size=batch_size, shuffle=False, num_workers=2, pin_memory=True)"
   ]
  },
  {
   "cell_type": "code",
   "execution_count": null,
   "metadata": {
    "id": "HKUAo59Ikc3M"
   },
   "outputs": [],
   "source": [
    "def train_CNN():\n",
    "    train_avg_loss = []\n",
    "    test_avg_loss = []\n",
    "    test_accuracy = []\n",
    "\n",
    "    for epoch in tqdm(range(num_epochs)):\n",
    "        train_losses = torch.tensor(0.0, device=device)\n",
    "        test_losses = torch.tensor(0.0, device=device)\n",
    "        accuracy = torch.tensor(0.0, device=device)\n",
    "\n",
    "        for x, y in trainloader:\n",
    "            x, y = x.to(device), y.to(device)\n",
    "            out = cats_dogs_CNN(x)\n",
    "            loss = criterion(out, y)\n",
    "\n",
    "            optimizer.zero_grad()\n",
    "            loss.backward()\n",
    "            optimizer.step()\n",
    "\n",
    "            train_losses += loss.detach() / len(trainloader)\n",
    "\n",
    "        with torch.no_grad():\n",
    "            for x, y in testloader:\n",
    "                x, y = x.to(device), y.to(device)\n",
    "                out = cats_dogs_CNN(x)\n",
    "                loss = criterion(out, y)\n",
    "\n",
    "                accuracy += ((out.argmax(dim=1)==y).float().mean()) / len(testloader)\n",
    "                test_losses += loss / len(testloader)\n",
    "\n",
    "        print('Epoch {epoch} : Accuracy = {accuracy}'.format(epoch=epoch, accuracy=accuracy))\n",
    "        train_avg_loss.append(train_losses)\n",
    "        test_avg_loss.append(test_losses)\n",
    "        test_accuracy.append(accuracy)\n",
    "\n",
    "    train_avg_loss = torch.stack(train_avg_loss).cpu()\n",
    "    test_avg_loss = torch.stack(test_avg_loss).cpu()\n",
    "    test_accuracy = torch.stack(test_accuracy).cpu()\n",
    "\n",
    "    return train_avg_loss, test_avg_loss, test_accuracy"
   ]
  },
  {
   "cell_type": "code",
   "execution_count": null,
   "metadata": {
    "colab": {
     "base_uri": "https://localhost:8080/"
    },
    "id": "2awFxYlwkgxG",
    "outputId": "65b25633-ac60-4929-cd03-2b4bd4c49b94"
   },
   "outputs": [],
   "source": [
    "train_avg_loss, test_avg_loss, test_accuracy = train_CNN()"
   ]
  },
  {
   "cell_type": "code",
   "execution_count": null,
   "metadata": {
    "id": "-U6B-IY4kjBT"
   },
   "outputs": [],
   "source": [
    "dst_folder = './CNN'\n",
    "\n",
    "if os.path.exists(dst_folder):\n",
    "    shutil.rmtree(dst_folder)\n",
    "\n",
    "os.makedirs(dst_folder, exist_ok=True)\n",
    "\n",
    "np.save(os.path.join(dst_folder, 'TrAvgLoss.npy'), train_avg_loss)\n",
    "np.save(os.path.join(dst_folder, 'TeAvgLoss.npy'), test_avg_loss)\n",
    "np.save(os.path.join(dst_folder, 'TeAcc.npy'), test_accuracy)"
   ]
  },
  {
   "cell_type": "code",
   "execution_count": null,
   "metadata": {
    "colab": {
     "base_uri": "https://localhost:8080/"
    },
    "id": "uOMwPhdbklVY",
    "outputId": "533dd65a-d25a-4809-d851-5a359c647bbc"
   },
   "outputs": [],
   "source": [
    "src_folder = './CNN'\n",
    "\n",
    "train_avg_loss_cpu = np.load(os.path.join(src_folder, 'TrAvgLoss.npy'))\n",
    "test_avg_loss_cpu = np.load(os.path.join(src_folder, 'TeAvgLoss.npy'))\n",
    "test_accuracy_cpu = np.load(os.path.join(src_folder, 'TeAcc.npy'))\n",
    "\n",
    "plt.figure(figsize=(10, 5))\n",
    "plt.plot(train_avg_loss_cpu, label='Training loss')\n",
    "plt.plot(test_avg_loss_cpu, label='Test loss')\n",
    "plt.legend()\n",
    "plt.title(\"Training and Testing Loss\")\n",
    "plt.xlabel(\"Epoch\")\n",
    "plt.ylabel(\"Loss\")\n",
    "plt.show()\n",
    "\n",
    "plt.figure(figsize=(10, 5))\n",
    "plt.plot(test_accuracy_cpu, label='Test accuracy')\n",
    "plt.legend()\n",
    "plt.title(\"Testing Accuracy\")\n",
    "plt.xlabel(\"Epoch\")\n",
    "plt.ylabel(\"Accuracy\")\n",
    "plt.show()"
   ]
  },
  {
   "cell_type": "markdown",
   "metadata": {
    "id": "XUz40unrX_N7"
   },
   "source": [
    "The parameters choosed are the following :\n",
    "- `optimizer` = Adam, very popular\n",
    "- `loss` = CrossEntropyLoss, classical for classification\n",
    "- `learning_rate` = 0.001 usual value for the learning rate\n",
    "- `epochs` = 30 usual value\n",
    "- Convolutional network :\n",
    "\n",
    "INPUT → [[CONV → RELU]x1 → POOL]x5 → [FC → RELU]x1 → FC\n",
    "\n",
    "We incremented the input channels of each convolution from 3 (RGB) to 32, 64, 128, 256. We handelded images of 224 x 224 pixels. This architecture seemed to work pretty well.\n",
    "\n",
    "We also implemented data augmentation on the training set as seen in the previous snippets to improve our neural network.\n",
    "\n",
    "At the end we reach an accuracy of 85% which is pretty good for a simple convolutional neural network. We could have obtained better results by using a more complex architecture or better tailored to the problem, but we'll get the gist of it by trying again and again with different problems and projects."
   ]
  },
  {
   "cell_type": "markdown",
   "metadata": {
    "id": "HJ-TV__iX_N7"
   },
   "source": [
    "## Feedback\n",
    "\n",
    "Now that you are done with this final deep-learning assignment here are some final questions about the exercises you were required to solve:"
   ]
  },
  {
   "cell_type": "markdown",
   "metadata": {
    "id": "6Sqde01JX_N7"
   },
   "source": [
    "<span style=\"color:blue\">How much time did you spend on this homework?</span>"
   ]
  },
  {
   "cell_type": "markdown",
   "metadata": {
    "id": "ZfygUEftX_N7"
   },
   "source": [
    "3hours coding + 5hours training"
   ]
  },
  {
   "cell_type": "markdown",
   "metadata": {
    "id": "_TtViLPJX_N7"
   },
   "source": [
    "<span style=\"color:blue\">Do you feel confortable with what it means to define a neural network and train it?</span>"
   ]
  },
  {
   "cell_type": "markdown",
   "metadata": {
    "id": "wAZxJVACX_N8"
   },
   "source": [
    "Yes"
   ]
  },
  {
   "cell_type": "markdown",
   "metadata": {
    "id": "hAQy6DrOX_N8"
   },
   "source": [
    "<span style=\"color:blue\">Do you think you now have enough preliminary knowledge for successfully starting to work on your course final project?</span>"
   ]
  },
  {
   "cell_type": "markdown",
   "metadata": {
    "id": "oYaJC24bX_N8"
   },
   "source": [
    "Yes, with both homeworks done we can dive in the project"
   ]
  },
  {
   "cell_type": "markdown",
   "metadata": {
    "id": "wvvCrG_5X_N8"
   },
   "source": [
    "<span style=\"color:blue\">If you had to go through the two homeworks again, is there something you would have liked to explore more or explained more into detail?</span>"
   ]
  },
  {
   "cell_type": "markdown",
   "metadata": {
    "id": "EjuvWU-VX_N8"
   },
   "source": [
    "We think that the basics were nicely covered and that we could always use the theoretical course to check for correct coding principles for the different problems"
   ]
  }
 ],
 "metadata": {
  "accelerator": "GPU",
  "colab": {
   "gpuType": "V100",
   "provenance": []
  },
  "kernelspec": {
   "display_name": "Python 3",
   "language": "python",
   "name": "python3"
  },
  "language_info": {
   "codemirror_mode": {
    "name": "ipython",
    "version": 3
   },
   "file_extension": ".py",
   "mimetype": "text/x-python",
   "name": "python",
   "nbconvert_exporter": "python",
   "pygments_lexer": "ipython3",
   "version": "3.11.5"
  }
 },
 "nbformat": 4,
 "nbformat_minor": 4
}
